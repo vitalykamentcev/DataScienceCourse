{
  "nbformat": 4,
  "nbformat_minor": 0,
  "metadata": {
    "colab": {
      "name": "Data Science Capstone Intro.ipynb",
      "version": "0.3.2",
      "provenance": [],
      "collapsed_sections": []
    },
    "kernelspec": {
      "name": "python3",
      "display_name": "Python 3"
    }
  },
  "cells": [
    {
      "cell_type": "markdown",
      "metadata": {
        "id": "PEqlPKBKyMKq",
        "colab_type": "text"
      },
      "source": [
        "# The Battle of the Neighborhoods - Week 1"
      ]
    },
    {
      "cell_type": "markdown",
      "metadata": {
        "id": "F1SOWTnyylLw",
        "colab_type": "text"
      },
      "source": [
        "## Indroduction"
      ]
    },
    {
      "cell_type": "markdown",
      "metadata": {
        "id": "NjJinnTiyo2Q",
        "colab_type": "text"
      },
      "source": [
        "Diversity of ethnic cusines in the world is immense. Moreover, It is easy to find many different ethnic restorants in any big city. This market is constantly growing and gets more and more complex. European ethnic foods was worth around EUR4.12bn in 2016. The market becomes more and more competitve because of world globalization process and increasing mobility of people around the globe.\n",
        "<br>\n",
        "Looking into Europe as a very diverse region, some ethnic cusine trends are obvious but some of them are not. For example, you can find italian restorants in any city or town of Europe. Japanese food also took significant popularity over last decades. But what about other ethic cusines like Turkish, Vietnamese, Hungarian or Russian? How easy to find it in different parts of big Europe?\n"
      ]
    },
    {
      "cell_type": "markdown",
      "metadata": {
        "id": "DxYO4QM8ypfo",
        "colab_type": "text"
      },
      "source": [
        "## Questions to answer"
      ]
    },
    {
      "cell_type": "markdown",
      "metadata": {
        "id": "d5jFQGcQyppQ",
        "colab_type": "text"
      },
      "source": [
        "I would call this project \"The Battle of the Cusines\".\n",
        "\n",
        "**Aim of this project is to answer these questions:**\n",
        "1. Take some particular cusine as a parameter and collect data of its presence in main cities of Europe.\n",
        "2. Detect geographical trends.\n",
        "3. Compare popularity of ethnic cusines around Europe.\n",
        "\n",
        "**Target audience:**\n",
        "* Professional researchers\n",
        "* Tourists and food lovers"
      ]
    },
    {
      "cell_type": "markdown",
      "metadata": {
        "id": "0z5yyOijypvc",
        "colab_type": "text"
      },
      "source": [
        "## Data Descripion"
      ]
    },
    {
      "cell_type": "markdown",
      "metadata": {
        "id": "rdEJBvxsyp1H",
        "colab_type": "text"
      },
      "source": [
        "The data for the problem analysis will be taken from two sources:\n",
        "1. List of largest cities in Europe: wiki page https://en.wikipedia.org/wiki/List_of_European_cities_by_population_within_city_limits\n",
        "2. List of restorants of specific national cusine: https://developer.foursquare.com/\n",
        "\n",
        "Other data sources:\n",
        "1. Google Geocoding web service: https://maps.googleapis.com/maps/api/geocode\n",
        "\n",
        "**Data collection process:**\n",
        "1. Extract wiki table of largest cities of Europe, extract it and build dataset of cities and its population.\n",
        "2. Enrice the dataset with latitude and longitude of each city with help of Google Geocoding API.\n",
        "3. For each city in the list extract list of venues of specific category (for example, *Turkish Restorants*).\n",
        "4. Merge Cities and Venues datasets, group and clean to get statistics by city.\n",
        "5. Normalize statistics by city population.\n",
        "6. Make visualization on Europe map.\n"
      ]
    },
    {
      "cell_type": "code",
      "metadata": {
        "id": "XlVQGIwW3qwl",
        "colab_type": "code",
        "colab": {}
      },
      "source": [
        ""
      ],
      "execution_count": 0,
      "outputs": []
    }
  ]
}
